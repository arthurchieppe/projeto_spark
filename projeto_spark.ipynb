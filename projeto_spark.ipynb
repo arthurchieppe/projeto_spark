{
 "cells": [
  {
   "cell_type": "markdown",
   "id": "2b48e863-8e93-45c0-938d-c9a4566b69b8",
   "metadata": {},
   "source": [
    "# Projeto Spark\n",
    "\n",
    "A ser realizado em duplas.\n",
    "\n",
    "* Arthur Gomes Chieppe\n",
    "* Vinicius Grando Eller\n",
    "\n",
    "Entrega: 6 de dezembro de 2022"
   ]
  },
  {
   "cell_type": "markdown",
   "id": "4813f033-927b-46ca-8977-30e8b0de48c2",
   "metadata": {
    "tags": []
   },
   "source": [
    "## Introdução\n",
    "\n",
    "Neste projeto vamos construir um classificador Naive-Bayes para determinar o sentimento de um comentário."
   ]
  },
  {
   "cell_type": "markdown",
   "id": "8f7c97a3",
   "metadata": {},
   "source": [
    "## Instalando o ambiente"
   ]
  },
  {
   "cell_type": "markdown",
   "id": "3c9b3746",
   "metadata": {},
   "source": [
    "O jeito mais simples de começar a trabalhar com Spark é instalar um container com tudo pronto! No site https://hub.docker.com/r/jupyter/pyspark-notebook vemos uma imagem Docker que já vem com `pyspark` e `jupyter lab`. Instale a imagem com o comando:\n",
    "\n",
    "```bash\n",
    "docker pull jupyter/pyspark-notebook\n",
    "```\n",
    "\n",
    "Vamos iniciar o ambiente de trabalho com o comando `docker run`. Para isso precisamos tomar alguns cuidados:\n",
    "\n",
    "1) Temos que mapear nosso diretorio local de trabalho para um diretório interno do container, de modo que alterações feitas dentro do container (nesta pasta escolhida) sejam gravadas no nosso diretorio local. No container temos um usuário padrão com *username* `jovyan`. No *homedir* desse usuario temos uma pasta vazia `work`, que vai servir como local de mapeamento do nosso diretorio local de trabalho. Podemos então fazer esse mapeamendo com a opção `-v` do comando `docker run` da seguinte forma:\n",
    "\n",
    "```bash\n",
    "-v <diretorio>:/home/jovyan/work\n",
    "```\n",
    "\n",
    "onde `<diretorio>` representa seu diretorio local de trabalho.\n",
    "\n",
    "2) Para acessar o `jupyter notebook` e o *dashboard* do Spark a partir do nosso *browser* favorito temos que abrir algumas portas do container com a opção `-p`. As portas são `8888` (para o próprio `jupyter notebook`) e `4040` (para o *dashboard* do Spark). Ou seja, adicionaremos às opções do `docker run`o seguinte:\n",
    "\n",
    "```bash\n",
    "-p 8888:8888 -p 4040:4040\n",
    "```\n",
    "\n",
    "Desta forma, ao acessar `localhost:8888` na nossa máquina, estaremos acessando o servidor Jupyter na porta 8888 interna do container.\n",
    "\n",
    "3) Vamos iniciar o container no modo interativo, e vamos especificar que o container deve ser encerrado ao fechar o servidor Jupyter. Faremos isso com as opções `-it` e `-rm`\n",
    "\n",
    "Portanto, o comando completo que eu uso na minha máquina Linux para iniciar o container é:\n",
    "\n",
    "```bash\n",
    "docker run \\\n",
    "    -it \\\n",
    "    --rm \\\n",
    "    -p 8888:8888 \\\n",
    "    -p 4040:4040 \\\n",
    "    -v `pwd`:/home/jovyan/work \\\n",
    "    jupyter/pyspark-notebook\n",
    "\n",
    "\n",
    "```\n",
    "\n",
    "Para facilitar a vida eu coloco esse comando em um arquivo `inicia.sh`. Engenheiros, façam do jeito que preferirem!\n",
    "\n",
    "Agora abra esse notebook lá no container!\n"
   ]
  },
  {
   "cell_type": "markdown",
   "id": "3090720d-0dec-48ff-a8da-921b62764c43",
   "metadata": {},
   "source": [
    "## Iniciando o Spark"
   ]
  },
  {
   "cell_type": "markdown",
   "id": "603fa191-ca53-4035-9147-86f3cf27831a",
   "metadata": {},
   "source": [
    "Vamos iniciar o ambiente Spark. Para isso vamos:\n",
    "\n",
    "1) Criar um objeto de configuração do ambiente Spark. Nossa configuração será simples: vamos especificar que o nome da nossa aplicação Spark é \"Minha aplicação\", e que o *master node* é a máquina local, usando todos os *cores* disponíveis. Aplicações reais de Spark são configuradas de modo ligeiramente diferente: ao especificar o *master node* passamos uma URL real, com o endereço do nó gerente do *cluster* Spark.\n",
    "\n",
    "2) Vamos criar um objeto do tipo `SparkContext` com essa configuração"
   ]
  },
  {
   "cell_type": "code",
   "execution_count": 1,
   "id": "f6d1b7f8-ddc9-43b0-adbd-2b6e5aad182c",
   "metadata": {},
   "outputs": [],
   "source": [
    "import pyspark\n",
    "\n",
    "conf = pyspark.SparkConf()\n",
    "conf.setAppName('Minha aplicação')\n",
    "conf.setMaster('local[*]')\n",
    "\n",
    "sc = pyspark.SparkContext(conf=conf)"
   ]
  },
  {
   "cell_type": "markdown",
   "id": "0cfcd1c3-3c9b-47c6-bf36-06c60b796991",
   "metadata": {},
   "source": [
    "O `SparkContext` é a nossa porta de entrada para o cluster Spark, ele será a raiz de todas as nossas operações com o Spark."
   ]
  },
  {
   "cell_type": "code",
   "execution_count": 2,
   "id": "5214f8ff-9df1-4817-9e08-c1755470f3b6",
   "metadata": {},
   "outputs": [
    {
     "data": {
      "text/html": [
       "\n",
       "        <div>\n",
       "            <p><b>SparkContext</b></p>\n",
       "\n",
       "            <p><a href=\"http://1665839b89e9:4040\">Spark UI</a></p>\n",
       "\n",
       "            <dl>\n",
       "              <dt>Version</dt>\n",
       "                <dd><code>v3.3.1</code></dd>\n",
       "              <dt>Master</dt>\n",
       "                <dd><code>local[*]</code></dd>\n",
       "              <dt>AppName</dt>\n",
       "                <dd><code>Minha aplicação</code></dd>\n",
       "            </dl>\n",
       "        </div>\n",
       "        "
      ],
      "text/plain": [
       "<SparkContext master=local[*] appName=Minha aplicação>"
      ]
     },
     "execution_count": 2,
     "metadata": {},
     "output_type": "execute_result"
    }
   ],
   "source": [
    "sc"
   ]
  },
  {
   "cell_type": "markdown",
   "id": "60acb677-070b-4191-bbad-ee16000ff380",
   "metadata": {},
   "source": [
    "O link acima provavelmente não funcionará porque ele se refere à porta 4040 interna do container (portanto a URL está com endereço interno). Porém fizemos o mapeamento da porta 4040 interna para a porta 4040 externa, logo você pode acessar o *dashboard* do Spark no endereço http://localhost:4040\n",
    "\n",
    "<center><img src=\"./spark_dashboard.png\" width=800/></center>"
   ]
  },
  {
   "cell_type": "markdown",
   "id": "c44bd07e-7f64-4c0d-b522-faf5313b53cc",
   "metadata": {},
   "source": [
    "## Lendo os dados"
   ]
  },
  {
   "cell_type": "markdown",
   "id": "b0c2f3af",
   "metadata": {},
   "source": [
    "Vamos começar lendo o arquivo de reviews e gravando o resultado em formato pickle, mais amigável."
   ]
  },
  {
   "cell_type": "code",
   "execution_count": 3,
   "id": "fe7fda56-bf06-4309-a265-26e553e20b94",
   "metadata": {},
   "outputs": [],
   "source": [
    "def parse_line(line):\n",
    "    parts = line[1:-1].split('\",\"')\n",
    "    sentiment = int(parts[0])\n",
    "    title = parts[1].replace('\"\"', '\"')\n",
    "    body = parts[2].replace('\"\"', '\"')\n",
    "    return (sentiment, title, body)\n",
    "\n",
    "rdd = sc.textFile('train.csv').map(parse_line)"
   ]
  },
  {
   "cell_type": "code",
   "execution_count": 4,
   "id": "900ea746-984c-405b-a449-d6cf8885525e",
   "metadata": {},
   "outputs": [
    {
     "data": {
      "text/plain": [
       "3600000"
      ]
     },
     "execution_count": 4,
     "metadata": {},
     "output_type": "execute_result"
    }
   ],
   "source": [
    "rdd.count()"
   ]
  },
  {
   "cell_type": "code",
   "execution_count": 5,
   "id": "e83f38e5-3d7b-4261-8ab3-caadb39d6076",
   "metadata": {},
   "outputs": [
    {
     "data": {
      "text/plain": [
       "[(2,\n",
       "  'Stuning even for the non-gamer',\n",
       "  'This sound track was beautiful! It paints the senery in your mind so well I would recomend it even to people who hate vid. game music! I have played the game Chrono Cross but out of all of the games I have ever played it has the best music! It backs away from crude keyboarding and takes a fresher step with grate guitars and soulful orchestras. It would impress anyone who cares to listen! ^_^')]"
      ]
     },
     "execution_count": 5,
     "metadata": {},
     "output_type": "execute_result"
    }
   ],
   "source": [
    "rdd.take(1)"
   ]
  },
  {
   "cell_type": "markdown",
   "id": "339c7933-ad3f-4a17-bf89-8e1360ddc4ab",
   "metadata": {},
   "source": [
    "Agora vamos gravar no formato pickle, para facilitar os trabalhos futuros. Após gravar o arquivo, não mais rode as células desta primeira etapa!"
   ]
  },
  {
   "cell_type": "code",
   "execution_count": 6,
   "id": "39938d62-bc17-4243-a9e8-3fed9c8d2bd9",
   "metadata": {},
   "outputs": [],
   "source": [
    "# rdd.saveAsPickleFile('reviews.pickle')"
   ]
  },
  {
   "cell_type": "markdown",
   "id": "6e4f5b5b-f0ac-4385-866b-8d8d8ecbdf9f",
   "metadata": {},
   "source": [
    "## Um classificador Naive-Bayes"
   ]
  },
  {
   "cell_type": "markdown",
   "id": "5a9ef2e6-ac48-46ad-b538-920c17aff6dc",
   "metadata": {},
   "source": [
    "Vamos ler o arquivo pickle gravado anteriormente:"
   ]
  },
  {
   "cell_type": "code",
   "execution_count": 31,
   "id": "9107ce80-0447-41d7-8f83-d96f0680d8fd",
   "metadata": {},
   "outputs": [],
   "source": [
    "rdd = sc.pickleFile('reviews.pickle')"
   ]
  },
  {
   "cell_type": "code",
   "execution_count": 32,
   "id": "ae84b476-b262-496f-93b0-19386fa9f29c",
   "metadata": {},
   "outputs": [
    {
     "data": {
      "text/plain": [
       "3600000"
      ]
     },
     "execution_count": 32,
     "metadata": {},
     "output_type": "execute_result"
    }
   ],
   "source": [
    "rdd.count()"
   ]
  },
  {
   "cell_type": "code",
   "execution_count": 33,
   "id": "607f7afa-43e7-4b82-bffc-7c1cca0536ae",
   "metadata": {},
   "outputs": [
    {
     "data": {
      "text/plain": [
       "[(2,\n",
       "  'Stuning even for the non-gamer',\n",
       "  'This sound track was beautiful! It paints the senery in your mind so well I would recomend it even to people who hate vid. game music! I have played the game Chrono Cross but out of all of the games I have ever played it has the best music! It backs away from crude keyboarding and takes a fresher step with grate guitars and soulful orchestras. It would impress anyone who cares to listen! ^_^')]"
      ]
     },
     "execution_count": 33,
     "metadata": {},
     "output_type": "execute_result"
    }
   ],
   "source": [
    "rdd.take(1)"
   ]
  },
  {
   "cell_type": "markdown",
   "id": "fc9751aa-df6d-4e3e-a8c5-039133cefe28",
   "metadata": {},
   "source": [
    "Agora, complete as tarefas em sequencia para construir o classificador Naive-Bayes:"
   ]
  },
  {
   "cell_type": "markdown",
   "id": "69bac409-7181-49c4-b555-73d3e9ff71f2",
   "metadata": {},
   "source": [
    "### Fase 1"
   ]
  },
  {
   "cell_type": "markdown",
   "id": "ef78654e-d064-41b4-9be8-306a57c425f4",
   "metadata": {},
   "source": [
    "#### Tarefa"
   ]
  },
  {
   "cell_type": "markdown",
   "id": "e03d82f8-520e-49de-8397-5277d5bd072e",
   "metadata": {},
   "source": [
    "Construa uma função que recebe um RDD no formato do RDD original e retorna um RDD no qual cada item é um par (palavra, contagem)."
   ]
  },
  {
   "cell_type": "code",
   "execution_count": 34,
   "id": "6bb48e97-e57d-4b6a-9b27-b52cd9c3d195",
   "metadata": {},
   "outputs": [],
   "source": [
    "def separate_parser(x):\n",
    "#     Separa em palavras:\n",
    "    title = x[1]\n",
    "    body = x[2]\n",
    "    return title.split() + body.split()"
   ]
  },
  {
   "cell_type": "code",
   "execution_count": 43,
   "id": "1e6e3212-cb68-4429-9f4e-217bb2240e3e",
   "metadata": {},
   "outputs": [],
   "source": [
    "def conta_palavras(rdd):\n",
    "    return_rdd = rdd \\\n",
    "        .flatMap(separate_parser) \\\n",
    "        .map(lambda x: (x,1)) \\\n",
    "        .reduceByKey(lambda x, y: x+y)\n",
    "        \n",
    "    return return_rdd"
   ]
  },
  {
   "cell_type": "code",
   "execution_count": 44,
   "id": "8ee1ed10-cc68-45b8-a0e4-b23183a89227",
   "metadata": {},
   "outputs": [
    {
     "data": {
      "text/plain": [
       "[('out', 667825), ('like', 930710)]"
      ]
     },
     "execution_count": 44,
     "metadata": {},
     "output_type": "execute_result"
    }
   ],
   "source": [
    "temp = conta_palavras(rdd)\n",
    "temp.take(2)"
   ]
  },
  {
   "cell_type": "markdown",
   "id": "49d888c4-bef5-4d1c-a901-e8dc5029f1b0",
   "metadata": {},
   "source": [
    "#### Tarefa"
   ]
  },
  {
   "cell_type": "markdown",
   "id": "29ec5621-6c06-4dce-b351-e887d6aa8be4",
   "metadata": {},
   "source": [
    "Construa uma função que recebe o RDD (palavra, contagem) construido anteriormente e retorna um RDD no qual cada item é um par (palavra, $\\log_{10}\\left(c \\, / \\, T\\right)$), onde $c$ é a contagem daquela palavra e $T$ é a soma das contagens de palavra."
   ]
  },
  {
   "cell_type": "code",
   "execution_count": 60,
   "id": "ca379b49-a447-4ecf-9946-6c408e2adc97",
   "metadata": {},
   "outputs": [],
   "source": [
    "import numpy as np\n",
    "\n",
    "def tuple_log(rdd):\n",
    "    _,total = rdd.reduce(lambda x, y: (\"total\", x[1] + y[1]))\n",
    "    return_rdd = rdd \\\n",
    "        .map(lambda x: (x[0], np.log10(x[1]/total)))\n",
    "    return return_rdd"
   ]
  },
  {
   "cell_type": "code",
   "execution_count": 61,
   "id": "38327caa-ef3b-470f-863d-499930904bed",
   "metadata": {},
   "outputs": [
    {
     "data": {
      "text/plain": [
       "[('out', -2.6263333876130455),\n",
       " ('like', -2.4821816802222187),\n",
       " ('heart-rendering', -7.149966064766881),\n",
       " ('family', -3.6544286648873774),\n",
       " ('book', -2.3052565818700304)]"
      ]
     },
     "execution_count": 61,
     "metadata": {},
     "output_type": "execute_result"
    }
   ],
   "source": [
    "t2 = tuple_log(temp)\n",
    "t2.take(5)"
   ]
  },
  {
   "cell_type": "markdown",
   "id": "09116064-380c-43ed-91a3-736c80b47fb9",
   "metadata": {},
   "source": [
    "#### Tarefa"
   ]
  },
  {
   "cell_type": "markdown",
   "id": "47df9afe-f429-4951-954d-8ac0361efee6",
   "metadata": {},
   "source": [
    "Separe o RDD original em dois RDDs: o dos reviews positivos e o dos negativos. Em seguida, use as funções anteriores para construir RDDs que contem os pares (palavra, $\\log_{10}\\left(c \\, / \\, T\\right)$)"
   ]
  },
  {
   "cell_type": "code",
   "execution_count": 66,
   "id": "987554e0-0a16-4827-9cc3-7c21063b1f8e",
   "metadata": {},
   "outputs": [],
   "source": [
    "def positive_and_negative(rdd):\n",
    "    rdd_positive = rdd.filter(lambda x: x[0] == 2)\n",
    "    \n",
    "    rdd_negative = rdd.filter(lambda x: x[0] == 1)\n",
    "    return rdd_positive, rdd_negative\n",
    "\n",
    "rdd_pos, rdd_neg = positive_and_negative(rdd)\n",
    "\n",
    "log_pos = tuple_log(conta_palavras(rdd_pos))\n",
    "\n",
    "log_neg = tuple_log(conta_palavras(rdd_neg))\n",
    "\n",
    "\n"
   ]
  },
  {
   "cell_type": "code",
   "execution_count": 72,
   "id": "72b0f43c-ece4-43b5-8ffe-420c12c6301c",
   "metadata": {},
   "outputs": [
    {
     "data": {
      "text/plain": [
       "[('out', -2.6616432990632193),\n",
       " ('like', -2.493354335745979),\n",
       " ('heart-rendering', -6.877611149594514),\n",
       " ('book', -2.272766745312638),\n",
       " ('let', -3.659002713769088),\n",
       " ('angery.', -7.831853659033838),\n",
       " ('When', -3.4474643987090388),\n",
       " ('4', -3.4195611497107916),\n",
       " ('years,', -4.01425523940122),\n",
       " ('age-old', -6.018940302390982)]"
      ]
     },
     "execution_count": 72,
     "metadata": {},
     "output_type": "execute_result"
    }
   ],
   "source": [
    "log_pos.take(10)"
   ]
  },
  {
   "cell_type": "code",
   "execution_count": 73,
   "id": "1b05be94-cb98-4a88-a34a-bda888f4a52a",
   "metadata": {},
   "outputs": [
    {
     "data": {
      "text/plain": [
       "[('family', -3.9203467150039017),\n",
       " ('book', -2.3376666325195163),\n",
       " ('purposes.', -5.277100209404035),\n",
       " ('wasting', -4.286904624660917),\n",
       " ('item', -3.369099739726642),\n",
       " ('out', -2.596022446951644),\n",
       " ('clouded.', -7.321303871896089),\n",
       " ('timbre', -6.374010222412092),\n",
       " ('24', -4.498109201462125),\n",
       " ('Disappointed', -3.9634778842725438)]"
      ]
     },
     "execution_count": 73,
     "metadata": {},
     "output_type": "execute_result"
    }
   ],
   "source": [
    "log_neg.take(10)"
   ]
  },
  {
   "cell_type": "markdown",
   "id": "dbfe5957-73d2-45ad-9ad2-6e029668bacf",
   "metadata": {},
   "source": [
    "### Tarefa"
   ]
  },
  {
   "cell_type": "markdown",
   "id": "904cb0c8-2236-47aa-8ab0-3ad925bb24ed",
   "metadata": {},
   "source": [
    "Use o `.fullOuterJoin()` dos RDDs para construir um RDD unificado, no qual cada item é da forma (palavra, log_prob_positivo, log_prob_negativo). \"Baixe\" esse resultado final usando `.collect()`."
   ]
  },
  {
   "cell_type": "code",
   "execution_count": 83,
   "id": "0b599156-e71d-46b4-9499-8d2dfe072512",
   "metadata": {},
   "outputs": [],
   "source": [
    "rddzao = log_pos \\\n",
    "    .fullOuterJoin(log_neg) \\\n",
    "    .map(lambda x: (x[0], x[1][0], x[1][1]))\n",
    "    "
   ]
  },
  {
   "cell_type": "code",
   "execution_count": 84,
   "id": "a05b7f17-bf9d-4616-8ee5-8b647bafa9c4",
   "metadata": {},
   "outputs": [
    {
     "data": {
      "text/plain": [
       "[('out', -2.6616432990632193, -2.596022446951644),\n",
       " ('heart-rendering', -6.877611149594514, -7.865371916246365),\n",
       " ('angery.', -7.831853659033838, -7.689280657190683),\n",
       " ('age-old', -6.018940302390982, -6.30307905178989),\n",
       " ('family', -3.4798931704033724, -3.9203467150039017)]"
      ]
     },
     "execution_count": 84,
     "metadata": {},
     "output_type": "execute_result"
    }
   ],
   "source": [
    "rddzao.take(5)"
   ]
  },
  {
   "cell_type": "code",
   "execution_count": 85,
   "id": "acbd5c47-a310-436f-9dcd-6ca7838f14f8",
   "metadata": {},
   "outputs": [],
   "source": [
    "res_array = rddzao.collect()"
   ]
  },
  {
   "cell_type": "markdown",
   "id": "79e90473-6725-4f30-9130-f5a0f370d968",
   "metadata": {},
   "source": [
    "#### Tarefa"
   ]
  },
  {
   "cell_type": "markdown",
   "id": "423d2117-397c-4a66-b63b-ca00036c1e2d",
   "metadata": {},
   "source": [
    "Para uma dada string, determine se ela é um review positivo ou negativo usando os RDDs acima. Lembre-se de como funciona o classificador Naive-Bayes: http://stanford.edu/~jurafsky/slp3/slides/7_NB.pdf, consulte tambem suas notas de aula de Ciência dos Dados!"
   ]
  },
  {
   "cell_type": "code",
   "execution_count": null,
   "id": "f2f68949-61c8-46b4-a39e-bcfb3872c4fd",
   "metadata": {},
   "outputs": [],
   "source": []
  },
  {
   "cell_type": "markdown",
   "id": "ab052fff-3752-4476-88f5-bc6b654c8e02",
   "metadata": {},
   "source": [
    "### Fase 2"
   ]
  },
  {
   "cell_type": "markdown",
   "id": "7071fa13-c31b-434e-969f-538c0070fb34",
   "metadata": {},
   "source": [
    "Agora que temos um classificador Naive-Bayes, vamos explorá-lo um pouco:"
   ]
  },
  {
   "cell_type": "markdown",
   "id": "57ed5be5-9e8d-4a7f-98bc-592cc7ecee74",
   "metadata": {},
   "source": [
    "### Tarefa"
   ]
  },
  {
   "cell_type": "markdown",
   "id": "fcb9bd58-1023-4cb7-861e-6cdbe5384356",
   "metadata": {},
   "source": [
    "Quais são as 100 palavras que mais indicam negatividade, ou seja, onde a diferença entre a probabilidade da palavra no conjunto dos comentários negativos e positivos é máxima? E quais as 100 palavras de maior positividade? Mostre os resultados na forma de *word clouds*."
   ]
  },
  {
   "cell_type": "code",
   "execution_count": null,
   "id": "c147d964-8720-43fa-a8e3-0610394a752f",
   "metadata": {},
   "outputs": [],
   "source": []
  },
  {
   "cell_type": "markdown",
   "id": "8854a0bf-1941-47eb-a1f5-6b3f4d34f857",
   "metadata": {},
   "source": [
    "### Tarefa desafio!"
   ]
  },
  {
   "cell_type": "markdown",
   "id": "94a98d11-16d6-4d97-b1ab-14db145e826e",
   "metadata": {},
   "source": [
    "Qual o desempenho do classificador (acurácia)? Para medir sua acurácia:\n",
    "\n",
    "- Separe os reviews em dois conjuntos: treinamente e teste\n",
    "- Repita o \"treinamento\" do classificador com o conjunto de treinamento\n",
    "- Para cada review do conjunto de teste, determine se é positiva ou negativa de acordo com o classificador\n",
    "- Determine a acurácia\n",
    "\n",
    "Esta não é uma tarefa trivial. Não basta fazer um `for` para determinar a classe de cada review de teste: isso demoraria uma eternidade. Você tem que usar variáveis \"broadcast\" do Spark para enviar uma cópia da tabela de frequencias para cada *core* do executor."
   ]
  },
  {
   "cell_type": "markdown",
   "id": "d12a2c0d-7bfc-40bf-b717-1414c1df05ec",
   "metadata": {},
   "source": [
    "### Tarefa desafio!"
   ]
  },
  {
   "cell_type": "markdown",
   "id": "6af21c4e-5a5b-4127-80a0-d79e95f03b8f",
   "metadata": {},
   "source": [
    "Implemente Laplace smoothing"
   ]
  },
  {
   "cell_type": "code",
   "execution_count": null,
   "id": "7f61c989-ec58-4ebe-be19-595ad9e4887c",
   "metadata": {},
   "outputs": [],
   "source": []
  },
  {
   "cell_type": "markdown",
   "id": "08805b7b-f8b5-4b85-ab53-3c0813f79c44",
   "metadata": {},
   "source": [
    "## Rubrica de avaliação"
   ]
  },
  {
   "cell_type": "markdown",
   "id": "74059567-1f3d-414a-bbc8-f5a7ea144b76",
   "metadata": {},
   "source": [
    "- I: groselha, falha crítica, ou não entregou nada\n",
    "- D: Fez uma tentativa honesta de fazer todos os itens da fase 1, mas tem erros\n",
    "- C: Fase 1 completa\n",
    "- B: Fase 2, faltando apenas um desafio\n",
    "- A: Fase 2 completa"
   ]
  },
  {
   "cell_type": "code",
   "execution_count": null,
   "id": "f33106eb-7a38-4d89-8a23-c14fce370bf1",
   "metadata": {},
   "outputs": [],
   "source": []
  }
 ],
 "metadata": {
  "kernelspec": {
   "display_name": "Python 3 (ipykernel)",
   "language": "python",
   "name": "python3"
  },
  "language_info": {
   "codemirror_mode": {
    "name": "ipython",
    "version": 3
   },
   "file_extension": ".py",
   "mimetype": "text/x-python",
   "name": "python",
   "nbconvert_exporter": "python",
   "pygments_lexer": "ipython3",
   "version": "3.10.8"
  },
  "vscode": {
   "interpreter": {
    "hash": "e7370f93d1d0cde622a1f8e1c04877d8463912d04d973331ad4851f04de6915a"
   }
  }
 },
 "nbformat": 4,
 "nbformat_minor": 5
}
